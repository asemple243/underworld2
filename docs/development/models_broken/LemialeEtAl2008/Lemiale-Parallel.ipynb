{
 "cells": [
  {
   "cell_type": "markdown",
   "metadata": {},
   "source": [
    "Lemiale et al 2008\n",
    "=====\n",
    "\n",
    "Shear banding analysis of plastic models formulated for incompressible viscous flows\n",
    "-----\n",
    "\n",
    "\n",
    "Uses underworld to simulate the deformation and failure of the lithosphere coupled with the mantle convection. Aim to reproduce the results for the angles of the shear bands for different initial parameters given in table 2 of [Lemiale et al 2008](http://www.sciencedirect.com/science/article/pii/S0031920108001933).\n",
    "\n",
    "This example has a complicated rheology which requires solving by an iterative method to get the viscosity of the plastic region. This plastic region also has a memory, meaning that the plastic strain is calculated by the previous strain rate integrated up to the current time.\n",
    "\n",
    "This model requires high resolution to accurately reproduce the benchmark values, and so is ideally suited to parallel computing. However the quick analysis at the end (a single angle of the shear band) naturally lends itself to serial processing. To address this the simulation is run in parallel to get the resulting stress field, which is then remapped to a single processor which performs the analysis.\n",
    "\n",
    "\n",
    "**This example covers the concepts of:**\n",
    "1. Complex rheologies and yielding\n",
    "2. iterative viscosity functions\n",
    "3. shear band models\n",
    "4. running post analysis on a single processor after a multiple procesor simulation (also runs in serial)\n",
    "\n",
    "**Keywords:** particle swarms, Stokes system, advective diffusive systems, complex rheology, parallel analysis\n",
    "\n",
    "**References**\n",
    "\n",
    "1. V. Lemiale, H.-B. Mühlhaus, L. Moresi, and J. Stafford, Shear banding analysis of plastic models formulated for incompressible viscous flows. Physics of the Earth and Planetary Interiors (2008) 171: 177-186.\n",
    "http://www.sciencedirect.com/science/article/pii/S0031920108001933\n"
   ]
  },
  {
   "cell_type": "code",
   "execution_count": 1,
   "metadata": {
    "collapsed": false
   },
   "outputs": [],
   "source": [
    "import numpy as np\n",
    "import math\n",
    "import os\n",
    "import time as cpuTime\n",
    "import underworld as uw\n",
    "from underworld import function as fn\n",
    "import glucifer"
   ]
  },
  {
   "cell_type": "markdown",
   "metadata": {},
   "source": [
    "Set benchmark variables from table 2 of Lemiale et al 2008"
   ]
  },
  {
   "cell_type": "code",
   "execution_count": 2,
   "metadata": {
    "collapsed": true
   },
   "outputs": [],
   "source": [
    "tanPhi = 0.4\n",
    "iExtension = False\n",
    "cinf = 10.#3.95"
   ]
  },
  {
   "cell_type": "markdown",
   "metadata": {},
   "source": [
    "**Set parameters from Lemiale et al 2008 (table 1)**\n",
    "\n",
    "NOTE: this is a quick version, so there is a resolution factor to reduce the resolution down to a bare minimum that still shows the banding effect. The angles will be different for low resolution runs compared to the benchmark values given in table 2 of Lemiale et al."
   ]
  },
  {
   "cell_type": "code",
   "execution_count": 3,
   "metadata": {
    "collapsed": false
   },
   "outputs": [],
   "source": [
    "# set resolution etc\n",
    "resfact = 4\n",
    "resX = 384/resfact\n",
    "resY = 128/resfact\n",
    "\n",
    "numPartPerCell = 60 # orig 20\n",
    "\n",
    "stressCrit = 1.0 # ad hoc test (rough division observed in simple stress field)\n",
    "\n",
    "\n",
    "if(iExtension==True):\n",
    "    width = 3.0  # 3 for extension\n",
    "else:\n",
    "    width = 4.0  # 4 for compression\n",
    "maxWidth = 2.0 # maximum width for any model (=4/2) used for plotting\n",
    "\n",
    "xmin = -width/2.\n",
    "xmax = width/2.\n",
    "\n",
    "# set viscosity parameters\n",
    "etaA = 0.01 # accommodation layer - sticky air\n",
    "etaW = 1.   # weak zone\n",
    "etaV = 100. # viscoplastic layer\n",
    "\n",
    "\n",
    "if(iExtension==True):\n",
    "    cohesion = 4.   # extension\n",
    "    minXv = -0.05\n",
    "    maxXv = -minXv\n",
    "else:\n",
    "    cohesion = 20.  # compression\n",
    "    minXv = 2./3.\n",
    "    maxXv = -minXv\n",
    "\n",
    "thicknessV = 0.8  # thickness of sample layer\n",
    "thicknessA = 0.2  # thickness of accommodation layer\n",
    "dWeak      = 0.04 # distance along each side of the weak square\n",
    "\n",
    "rhoA = 0.\n",
    "rhoV = 1. # including weak layer\n",
    "\n",
    "phi = np.arctan(tanPhi)"
   ]
  },
  {
   "cell_type": "code",
   "execution_count": 4,
   "metadata": {
    "collapsed": false
   },
   "outputs": [],
   "source": [
    "# As a precaution ... keep workdir. \n",
    "try:\n",
    "    workdir\n",
    "except NameError:\n",
    "    workdir = os.path.abspath(\".\")\n",
    "\n",
    "# check outputs directory exists, make it if it doesn't\n",
    "outputPath = os.path.join(workdir,\"outputs/\")\n",
    "\n",
    "if uw.rank() == 0:\n",
    "    if not os.path.exists(outputPath):\n",
    "        os.makedirs(outputPath)\n",
    "    "
   ]
  },
  {
   "cell_type": "markdown",
   "metadata": {},
   "source": [
    "Create mesh and finite element variables\n",
    "------\n",
    "\n",
    "Note: the use of a pressure-sensitive rheology suggests that it is important to use a Q2/dQ1 element "
   ]
  },
  {
   "cell_type": "code",
   "execution_count": 5,
   "metadata": {
    "collapsed": false
   },
   "outputs": [],
   "source": [
    "mesh = uw.mesh.FeMesh_Cartesian( elementType = (\"Q1/dQ0\"), \n",
    "                                 elementRes  = ( resX, resY), \n",
    "                                 minCoord    = ( xmin, 0.), \n",
    "                                 maxCoord    = ( xmax, 1.),\n",
    "                                 periodic    = [False, False]  ) \n",
    "\n",
    "velocityField    = uw.mesh.MeshVariable( mesh=mesh,         nodeDofCount=mesh.dim )\n",
    "pressureField    = uw.mesh.MeshVariable( mesh=mesh.subMesh, nodeDofCount=1 )\n",
    "\n",
    "velocityField.data[:] = [0.,0.]\n",
    "pressureField.data[:] = 0."
   ]
  },
  {
   "cell_type": "markdown",
   "metadata": {},
   "source": [
    "### Boundary conditions\n",
    "\n",
    "Pure shear with moving  walls — all boundaries are zero traction with "
   ]
  },
  {
   "cell_type": "code",
   "execution_count": 6,
   "metadata": {
    "collapsed": false
   },
   "outputs": [],
   "source": [
    "iWalls = mesh.specialSets[\"MinI_VertexSet\"] + mesh.specialSets[\"MaxI_VertexSet\"]\n",
    "jWalls = mesh.specialSets[\"MinJ_VertexSet\"] + mesh.specialSets[\"MaxJ_VertexSet\"]\n",
    "base   = mesh.specialSets[\"MinJ_VertexSet\"]\n",
    "top    = mesh.specialSets[\"MaxJ_VertexSet\"]\n",
    "\n",
    "allWalls = iWalls + jWalls\n",
    "\n",
    "velocityBCs = uw.conditions.DirichletCondition( variable        = velocityField, \n",
    "                                                indexSetsPerDof = (iWalls, base) )\n",
    "\n",
    "for index in mesh.specialSets[\"MinI_VertexSet\"]:\n",
    "    velocityField.data[index] = [minXv, 0.]\n",
    "for index in mesh.specialSets[\"MaxI_VertexSet\"]:\n",
    "    velocityField.data[index] = [maxXv, 0.]\n",
    "    "
   ]
  },
  {
   "cell_type": "markdown",
   "metadata": {},
   "source": [
    "### Setup the material swarm\n",
    "\n",
    "This is used for tracking deformation and history dependence of the rheology"
   ]
  },
  {
   "cell_type": "code",
   "execution_count": 7,
   "metadata": {
    "collapsed": true
   },
   "outputs": [],
   "source": [
    "swarm         = uw.swarm.Swarm( mesh=mesh )\n",
    "swarmLayout   = uw.swarm.layouts.PerCellSpaceFillerLayout( swarm=swarm, particlesPerCell=20 )\n",
    "swarm.populate_using_layout( layout=swarmLayout )\n"
   ]
  },
  {
   "cell_type": "markdown",
   "metadata": {},
   "source": [
    "### Create a particle advection system\n",
    "\n",
    "Note that we need to set up one advector systems for each particle swarm (our global swarm and a separate one if we add passive tracers)."
   ]
  },
  {
   "cell_type": "code",
   "execution_count": 8,
   "metadata": {
    "collapsed": false
   },
   "outputs": [],
   "source": [
    "advector        = uw.systems.SwarmAdvector( swarm=swarm,        velocityField=velocityField, order=2 )"
   ]
  },
  {
   "cell_type": "markdown",
   "metadata": {},
   "source": [
    "### Add swarm variables\n",
    "\n",
    "We are using a single material with a single rheology. We need to track the plastic strain in order to have some manner of strain-related softening (e.g. of the cohesion or the friction coefficient). For visualisation of swarm data we need an actual swarm variable and not just the computation.\n",
    "\n",
    "Other variables are used to track deformation in the shear band etc.\n",
    "\n",
    "**NOTE**:  Underworld needs all the swarm variables defined before they are initialised or there will be / can be memory problems (at least it complains about them !). That means we need to add the monitoring variables now, even if we don't always need them."
   ]
  },
  {
   "cell_type": "code",
   "execution_count": 9,
   "metadata": {
    "collapsed": true
   },
   "outputs": [],
   "source": [
    "# Tracking different materials\n",
    "plasticStrain  = swarm.add_variable( dataType=\"double\",  count=1 )\n",
    "materialVariable = swarm.add_variable( dataType=\"int\", count=1 )\n",
    "\n",
    "# These ones are for monitoring of the shear bands\n",
    "stretching = swarm.add_variable( dataType=\"double\", count=mesh.dim)\n",
    "orientation = swarm.add_variable( dataType=\"double\", count=1)"
   ]
  },
  {
   "cell_type": "markdown",
   "metadata": {},
   "source": [
    "### Initialise swarm variables\n",
    "\n"
   ]
  },
  {
   "cell_type": "code",
   "execution_count": 10,
   "metadata": {
    "collapsed": false
   },
   "outputs": [],
   "source": [
    "# Stretching - assume an initial orientation aligned with the x-axis\n",
    "stretching.data[:,0] = 1.0\n",
    "stretching.data[:,1] = 0.0\n",
    "\n",
    "# This is a work-variable for visualisation\n",
    "orientation.data[:] = 0.0\n",
    "\n",
    "# Plastic strain- initialise with zero. Weakness in bottom centre of domain is caused by low viscosity defect.\n",
    "plasticStrain.data[:] = 0.0"
   ]
  },
  {
   "cell_type": "markdown",
   "metadata": {},
   "source": [
    "### Material distribution in the domain.\n",
    "\n"
   ]
  },
  {
   "cell_type": "code",
   "execution_count": 11,
   "metadata": {
    "collapsed": true
   },
   "outputs": [],
   "source": [
    "# Initialise the 'materialVariable' data to represent different materials. \n",
    "materialV = 0 # viscoplastic\n",
    "materialW = 1 # weak\n",
    "materialA = 2 # accommodation layer a.k.a. Sticky Air\n",
    "\n",
    "# The particle coordinates will be the input to the function evaluate (see final line in this cell).\n",
    "# We get proxy for this now using the input() function.\n",
    "coord = fn.input()\n",
    "\n",
    "# Setup the conditions list for the following conditional function. Where the\n",
    "# z coordinate (coordinate[1]) is less than the perturbation, set to lightIndex.\n",
    "conditions = [ (                                  coord[1] > thicknessV , materialA ),\n",
    "               ( ((coord[1] < dWeak) & (coord[0]**2. < (dWeak**2.)/4.)) , materialW ),\n",
    "               (                                                   True , materialV ) ]\n",
    "\n",
    "# The actual function evaluation. Here the conditional function is evaluated at the location\n",
    "# of each swarm particle. The results are then written to the materialVariable swarm variable.\n",
    "materialVariable.data[:] = fn.branching.conditional( conditions ).evaluate(swarm)"
   ]
  },
  {
   "cell_type": "markdown",
   "metadata": {},
   "source": [
    "Define the density function\n",
    "---"
   ]
  },
  {
   "cell_type": "code",
   "execution_count": 12,
   "metadata": {
    "collapsed": true
   },
   "outputs": [],
   "source": [
    "# Here we set a density for each material - constants defined at the top\n",
    "densityMap   = { materialA:rhoA, materialV:rhoV, materialW:rhoV }\n",
    "densityFn    = fn.branching.map( fn_key = materialVariable, mapping = densityMap )"
   ]
  },
  {
   "cell_type": "markdown",
   "metadata": {},
   "source": [
    "Define the viscosity function\n",
    "----\n",
    "\n",
    "In this case, the viscosity of material which has not reached the yield criterion is simply going to be a constant. Nevertheless, it is useful to define it here as a function and write the remaining code such that it is not changed if we introduce additional materials or a dependence on another set of equations.\n",
    "\n",
    "**Define first iteration of first timestep**\n",
    "\n",
    "Set all viscosities to the constant values. For the plastic region this is used to calculate the effective viscosity by iterating later.\n"
   ]
  },
  {
   "cell_type": "code",
   "execution_count": 13,
   "metadata": {
    "collapsed": true
   },
   "outputs": [],
   "source": [
    "viscosityMap = { materialA:etaA, materialV:etaV, materialW:etaW }\n",
    "viscosityFn  = fn.branching.map( fn_key = materialVariable, mapping = viscosityMap )"
   ]
  },
  {
   "cell_type": "markdown",
   "metadata": {},
   "source": [
    "Plastic viscosity\n",
    "----\n",
    "\n",
    "Iterative method to get the viscosity of the plastic region\n",
    "\n",
    "\\begin{equation}\n",
    "    \\eta = \n",
    "        \\begin{cases}\n",
    "              \\eta_0 & f < 0 \\\\\n",
    "              \\frac{3 \\alpha p + k}{\\dot{\\gamma}} & f \\geq 0\n",
    "        \\end{cases}\n",
    "\\end{equation}\n",
    "\n",
    "where we adopt a Drucker-Prager type failure criterion:\n",
    "\n",
    "\\begin{equation}\n",
    "    f = \\hat{\\tau} - 3 \\alpha P \n",
    "\\end{equation}\n",
    "\n",
    "with\n",
    "\\begin{equation}\n",
    "\\alpha = \\frac{\\sin(\\phi)}{3} \\quad \\quad k = c \\cos(\\phi)\n",
    "\\end{equation}\n",
    "and\n",
    "\\begin{equation}\n",
    "c = c_0 + \\left( c_\\infty - c_0 \\right) \\min \\left( 1, \\frac{\\gamma^P}{\\gamma^0} \\right)\n",
    "\\end{equation}\n",
    "where $\\gamma^0 = 0.1$ is a reference strain. The plastic strain ($\\gamma^P$) is calculated by the previous strain rate integrated up to the current time, i.e.\n",
    "\\begin{equation}\n",
    "\\gamma^P_{rel} = \\int \\left( \\dot{\\gamma}^P - \\beta \\frac{\\tau_s}{\\eta} \\right) dt\n",
    "\\end{equation}\n",
    "where $\\beta$ is a parameter between 0 and 1 to describe the diminishing and healing of strain. For now we take $\\beta = 0$.\n",
    "\n"
   ]
  },
  {
   "cell_type": "code",
   "execution_count": 14,
   "metadata": {
    "collapsed": true
   },
   "outputs": [],
   "source": [
    "cohesionInf     = fn.misc.constant(cinf) # from table 2 of paper\n",
    "cohesion0       = fn.misc.constant(cohesion)\n",
    "referenceStrain = fn.misc.constant(0.1)\n",
    "\n",
    "cosPhi = fn.math.cos(fn.misc.constant(phi)) # phi defined at the start based on entered tanPhi\n",
    "sinPhi = fn.math.sin(fn.misc.constant(phi))\n",
    "\n",
    "alpha = sinPhi/3.0\n",
    "\n",
    "cohesionFn =  cohesion0 + (cohesionInf - cohesion0) * fn.exception.SafeMaths( \n",
    "                                                        fn.misc.min(1.0, plasticStrain / referenceStrain ))\n",
    "kFn = cohesionFn * cosPhi\n",
    "\n",
    "# first define strain rate tensor\n",
    "strainRateFn = fn.tensor.symmetric( velocityField.fn_gradient )\n",
    "strainRate_2ndInvariantFn = fn.tensor.second_invariant(strainRateFn)\n",
    "\n",
    "# DeviatoricStress\n",
    "devStressFn = 2.0 * viscosityFn * strainRateFn\n",
    "devStressFn_2ndInvariantFn = fn.tensor.second_invariant(devStressFn)\n",
    "\n",
    "# Failure criterion (f as given in equation 2)\n",
    "yieldStressFn = devStressFn_2ndInvariantFn - 3.0 * alpha * pressureField"
   ]
  },
  {
   "cell_type": "code",
   "execution_count": 15,
   "metadata": {
    "collapsed": false
   },
   "outputs": [],
   "source": [
    "# iterative over \n",
    "viscIterate = viscosityFn * (3.0 * alpha * pressureField + kFn) * fn.exception.SafeMaths( \n",
    "                                                        fn.misc.max(0.0, 1./(yieldStressFn+1.0e-14) ))\n",
    "\n",
    "# apply criterion and calculate viscosity everywhere\n",
    "conditions = [ ( yieldStressFn > 3.0 * alpha * pressureField + kFn , viscIterate ),     # plastic\n",
    "               (                                              True , etaV        ) ]    # viscous\n",
    "\n",
    "# The actual function evaluation. Here the conditional function is evaluated at the location\n",
    "# of each swarm particle. The results are then written to the materialVariable swarm variable.\n",
    "viscPlastic = fn.branching.conditional( conditions )\n",
    "\n",
    "viscosityMap = { materialA:etaA, materialV:viscPlastic, materialW:etaW }\n",
    "viscosityFn  = fn.branching.map( fn_key = materialVariable, mapping = viscosityMap )"
   ]
  },
  {
   "cell_type": "markdown",
   "metadata": {},
   "source": [
    "Buoyancy forces\n",
    "----\n",
    "\n",
    "Densites of materials are different, so gravity does play a role.\n"
   ]
  },
  {
   "cell_type": "code",
   "execution_count": null,
   "metadata": {
    "collapsed": false
   },
   "outputs": [],
   "source": [
    "# Define our vertical unit vector using a python tuple (this will be automatically converted to a function).\n",
    "z_hat = ( 0.0, 1.0 )\n",
    "\n",
    "# Now create a buoyancy force vector using the density (FEvariable) and the vertical unit vector. \n",
    "buoyancyFn = -densityFn*z_hat"
   ]
  },
  {
   "cell_type": "markdown",
   "metadata": {},
   "source": [
    "System setup\n",
    "-----\n",
    "\n",
    "Setup a Stokes equation system and connect a solver up to it.  \n",
    "\n",
    "In this example, no buoyancy forces are considered. However, to establish an appropriate pressure gradient in the material, it would normally be useful to map density from material properties and create a buoyancy force."
   ]
  },
  {
   "cell_type": "code",
   "execution_count": null,
   "metadata": {
    "collapsed": false
   },
   "outputs": [],
   "source": [
    "stokes = uw.systems.Stokes(    velocityField = velocityField, \n",
    "                               pressureField = pressureField,\n",
    "                               voronoi_swarm = swarm, \n",
    "                               conditions    = [velocityBCs,],\n",
    "                               fn_viscosity  = viscosityFn, \n",
    "                               fn_bodyforce  = buoyancyFn )\n",
    "\n",
    "solver = uw.systems.Solver( stokes )\n",
    "\n",
    "## Initial solve (drop the non-linearity the very first solve only)\n",
    "penaltyNumber=1.0e6\n",
    "\n",
    "if(uw.nProcs==1): # direct solve for single proc\n",
    "    solver.set_inner_method(\"lu\")\n",
    "\n",
    "solver.set_penalty(penaltyNumber)\n",
    "solver.solve( nonLinearIterate=True )\n",
    "#solver.print_stats()"
   ]
  },
  {
   "cell_type": "markdown",
   "metadata": {},
   "source": [
    "Create some diagnostic figures\n",
    "----\n"
   ]
  },
  {
   "cell_type": "code",
   "execution_count": null,
   "metadata": {
    "collapsed": false
   },
   "outputs": [],
   "source": [
    "figVelocityPressure = glucifer.Figure( figsize=(1200,400), boundingBox=((-maxWidth, 0.0, 0.0), (maxWidth, 1.0, 0.0)) )\n",
    "figVelocityPressure.append( glucifer.objects.VectorArrows(mesh, velocityField, scaling=1.) )\n",
    "figVelocityPressure.append( glucifer.objects.Surface(mesh, pressureField) )\n",
    "#figVelocityPressure.show()"
   ]
  },
  {
   "cell_type": "code",
   "execution_count": null,
   "metadata": {
    "collapsed": false
   },
   "outputs": [],
   "source": [
    "# The stress is only guaranteed to be accurate when integrated across an element. Fluctuations\n",
    "# within an element can be significant. Mapping to the mesh can help\n",
    "\n",
    "meshDevStress = uw.mesh.MeshVariable( mesh, 1 )\n",
    "\n",
    "projectorStress = uw.utils.MeshVariable_Projection( meshDevStress, fn.tensor.second_invariant(devStressFn), type=0 )\n",
    "projectorStress.solve()\n",
    "\n",
    "figMeshStress = glucifer.Figure( figsize=(1200,400), boundingBox=((-maxWidth, 0.0, 0.0), (maxWidth, 1.0, 0.0)) )\n",
    "figMeshStress.append( glucifer.objects.Surface(mesh, meshDevStress  , colours=\"#0044BB, #777777, #FF9900\") )\n",
    "#figMeshStress.show()"
   ]
  },
  {
   "cell_type": "code",
   "execution_count": null,
   "metadata": {
    "collapsed": false,
    "scrolled": true
   },
   "outputs": [],
   "source": [
    "curlV = velocityField.fn_gradient[1] - velocityField.fn_gradient[2]\n",
    "figStrain = glucifer.Figure( figsize=(1200,400), boundingBox=((-maxWidth, 0.0, 0.0), (maxWidth, 1.0, 0.0)) )\n",
    "figStrain.append( glucifer.objects.Surface(mesh, curlV) )\n",
    "figStrain.append( glucifer.objects.Points(swarm, plasticStrain, pointSize=4.0, fn_mask=materialVariable,  colours=\"#FF6600:0.5, #555555:0.25, Blue:0.5\") )\n",
    "#figStrain.show()"
   ]
  },
  {
   "cell_type": "markdown",
   "metadata": {},
   "source": [
    "**Define swarm minimum and maximum function**\n",
    "\n",
    "This function will output the minimum and maximum positions for all swarm particles in the x and y directions. This works in serial and in parallel, where it is needed to ensure that the new mesh has the right size so no particles are outside the boundaries."
   ]
  },
  {
   "cell_type": "code",
   "execution_count": null,
   "metadata": {
    "collapsed": false
   },
   "outputs": [],
   "source": [
    "def swarmMinMax():\n",
    "    fn_swarmX = fn.view.min_max( fn.coord()[0] )\n",
    "    fn_swarmY = fn.view.min_max( fn.coord()[1] )\n",
    "    fn_swarmX.reset()\n",
    "    fn_swarmX.evaluate( swarm )\n",
    "    fn_swarmY.reset()\n",
    "    fn_swarmY.evaluate( swarm )\n",
    "    sxmin = fn_swarmX.min_global()\n",
    "    sxmax = fn_swarmX.max_global()\n",
    "    symin = fn_swarmY.min_global()\n",
    "    symax = fn_swarmY.max_global()\n",
    "    return sxmin, sxmax, symin, symax"
   ]
  },
  {
   "cell_type": "markdown",
   "metadata": {},
   "source": [
    "Main simulation loop\n",
    "-----\n",
    "\n",
    "For computational speed the number of steps is reduced here. To get the correct banding effect ``nsteps`` should be run to about 20 for extension models and up to 40 for compression models."
   ]
  },
  {
   "cell_type": "code",
   "execution_count": null,
   "metadata": {
    "collapsed": true
   },
   "outputs": [],
   "source": [
    "# Stepping. Initialise time and timestep.\n",
    "time = 0.\n",
    "step = 0\n",
    "nsteps = 1 # change to 20 steps here\n",
    "xBuffer = 1.0e-5\n",
    "sBuffer = 1.0e-6\n",
    "ymax = 1.0\n",
    "ymin = 0.0"
   ]
  },
  {
   "cell_type": "code",
   "execution_count": null,
   "metadata": {
    "collapsed": false,
    "scrolled": true
   },
   "outputs": [],
   "source": [
    "startTime = cpuTime.clock()\n",
    "while step<nsteps:\n",
    "    \n",
    "    swarm.update_particle_owners() # hack\n",
    "    \n",
    "    solver.solve( nonLinearIterate=True )\n",
    "\n",
    "    dt = advector.get_max_dt()\n",
    "    advector.integrate(dt)\n",
    "    \n",
    "    # Stretch mesh to match boundary conditions\n",
    "    xmin += minXv * dt\n",
    "    xmax += maxXv * dt\n",
    "\n",
    "    # failsafe in case swarm particle is just outside domain (e.g. xmin - 1e-5)\n",
    "    swarmXMin, swarmXMax, swarmYMin, swarmYMax = swarmMinMax()\n",
    "    xmin = min(xmin, swarmXMin - xBuffer)\n",
    "    xmax = max(xmax, swarmXMax + xBuffer)\n",
    "\n",
    "    # if in compression then the lid must raise to conserve total volume (area in 2D)\n",
    "    if(iExtension==False):\n",
    "        ymax = max(ymax, swarmYMax + xBuffer)\n",
    "\n",
    "    # create the mesh ( must be same parameters for all processors if in parallel)\n",
    "    mesh2 = uw.mesh.FeMesh_Cartesian( elementType = (\"Q1/dQ0\"), \n",
    "                                      elementRes  = (resX, resY), \n",
    "                                      minCoord    = ( xmin, ymin), \n",
    "                                      maxCoord    = ( xmax, ymax),\n",
    "                                      periodic    = [False, False]  ) \n",
    "\n",
    "    with mesh.deform_mesh():\n",
    "        mesh.data[:] = mesh2.data[:]\n",
    "    \n",
    "    swarm.update_particle_owners()\n",
    "\n",
    "    swarmVgrad = velocityField.fn_gradient.evaluate(swarm)\n",
    "  \n",
    "    stretching.data[:,0] += dt * (swarmVgrad[:,0] * stretching.data[:,0] + swarmVgrad[:,1] * stretching.data[:,1])\n",
    "    stretching.data[:,1] += dt * (swarmVgrad[:,2] * stretching.data[:,0] + swarmVgrad[:,3] * stretching.data[:,1])\n",
    "    \n",
    "    # update plastic strain on those swarm particles that yielded\n",
    "    swarmYield = viscosityFn.evaluate(swarm) < etaV\n",
    "    swarmStrainRateInv = strainRate_2ndInvariantFn.evaluate(swarm)\n",
    "    particleIsViscPlastic = materialVariable.evaluate(swarm) == materialV\n",
    "    plasticStrainIncrement = dt * np.where(swarmYield, np.where(particleIsViscPlastic, swarmStrainRateInv, 0.0) , 0.0 )\n",
    "    \n",
    "    plasticStrain.data[:] += plasticStrainIncrement\n",
    "\n",
    "    if (step%5 ==0):      \n",
    "        figVelocityPressure.save_image( outputPath + \"figVP-\" + str(step).zfill(4))\n",
    "        projectorStress = uw.utils.MeshVariable_Projection( meshDevStress, \n",
    "                                                           fn.tensor.second_invariant(devStressFn), type=0 )\n",
    "        projectorStress.solve()\n",
    "        figStrain.save_image( outputPath + \"figStrain-\" + str(step).zfill(4))\n",
    "        \n",
    "    if uw.rank()==0:   \n",
    "        print('step = {0:3d}; time = {1:.3e}; xmax = {2:.3f}; pmax = {3:.4f}; cpu time = {4:.2e}'\n",
    "              .format(step, time, xmax, plasticStrain.evaluate(swarm).max(), cpuTime.clock()-startTime))\n",
    "\n",
    "    time += dt\n",
    "    step += 1\n",
    "  "
   ]
  },
  {
   "cell_type": "markdown",
   "metadata": {},
   "source": [
    "Post simulation images\n",
    "-----\n",
    "\n",
    "Output images for final pressure and strain."
   ]
  },
  {
   "cell_type": "code",
   "execution_count": null,
   "metadata": {
    "collapsed": false,
    "scrolled": true
   },
   "outputs": [],
   "source": [
    "figVelocityPressure.save_image( outputPath + \"figVP-\" + str(step).zfill(4))\n",
    "projectorStress = uw.utils.MeshVariable_Projection( meshDevStress, \n",
    "                                                           fn.tensor.second_invariant(devStressFn), type=0 )\n",
    "projectorStress.solve()\n",
    "figStrain.save_image( outputPath + \"figStrain-\" + str(step).zfill(4))\n"
   ]
  },
  {
   "cell_type": "code",
   "execution_count": null,
   "metadata": {
    "collapsed": false
   },
   "outputs": [],
   "source": [
    "projectorStress = uw.utils.MeshVariable_Projection( meshDevStress, fn.tensor.second_invariant(devStressFn), type=0 )\n",
    "projectorStress.solve()\n",
    "figMeshStress.save_image( outputPath + \"figShearBand-\" + str(step).zfill(4))"
   ]
  },
  {
   "cell_type": "markdown",
   "metadata": {},
   "source": [
    "Save final deviatoric stress configuration\n",
    "-----"
   ]
  },
  {
   "cell_type": "code",
   "execution_count": null,
   "metadata": {
    "collapsed": false
   },
   "outputs": [],
   "source": [
    "txtTanPhi = str(int(tanPhi*10.)).zfill(1)\n",
    "meshFileHandle = mesh.save( outputPath + \"Mesh_\" + txtTanPhi + \".h5\")\n",
    "meshDevStressFilename = outputPath + \"meshDevStress_\" + txtTanPhi\n",
    "mdsf = meshDevStress.save(meshDevStressFilename+\".h5\")\n",
    "meshDevStress.xdmf(meshDevStressFilename, mdsf, \"meshDevStress\", meshFileHandle, \"mrMesh\")"
   ]
  },
  {
   "cell_type": "markdown",
   "metadata": {},
   "source": [
    "Post-analysis: Shear band angle calculation\n",
    "----\n",
    "\n",
    "Calculate the angle the shear band makes to the vertical direction. This is clearest to see in the second invariant of the deviatoric stress tensor.\n",
    "\n",
    "The deviatoric stress tensor needs to be known near the weak point at the centre, bottom on the simulation domain. As this simulation is (most likely) done in parallel then not all information needed near the weak point is known to any single processor. \n",
    "\n",
    "Therefore we must determine the shear band angle by \n",
    "\n",
    "1. first collecting all data from all processors, easiest way to do this is to save the variable of interest and the mesh it exists on. \n",
    "2. create new mesh which is **not** partitioned. This means each processor sees the entire mesh.\n",
    "3. create a new variable and load the previously stored data onto it.\n",
    "4. use the new variable for analysis on a single processor."
   ]
  },
  {
   "cell_type": "markdown",
   "metadata": {},
   "source": [
    "**Conduct analysis on the first processor only**\n",
    "\n",
    "Output to screen and to a summary text file."
   ]
  },
  {
   "cell_type": "code",
   "execution_count": null,
   "metadata": {
    "collapsed": false,
    "scrolled": true
   },
   "outputs": [],
   "source": [
    "radius = 0.2\n",
    "nbin = 100\n",
    "theta = np.arange(0.,np.pi/2.0, np.pi/(2.*float(nbin)))\n",
    "fdev = np.zeros(nbin)\n",
    "xx = np.zeros(nbin)\n",
    "yy = np.zeros(nbin)\n",
    "fmax = 0.0\n",
    "for i in range(nbin):\n",
    "    xx[i] = radius*np.cos(np.pi/2.0 - theta[i])\n",
    "    yy[i] = radius*np.sin(np.pi/2.0 - theta[i])\n",
    "positions = np.zeros((nbin,2))\n",
    "for i in range(nbin):\n",
    "    positions[i][0]=xx[i]\n",
    "    positions[i][1]=yy[i]\n",
    "\n",
    "# global evaluations must be written so all processors go through this part\n",
    "#    (only rank=0 needs the correct info for the call though)\n",
    "fdev = meshDevStress.evaluate_global( positions )\n",
    "\n",
    "# back to rank=0 analysis\n",
    "if uw.rank()==0: \n",
    "    for i in range(nbin):\n",
    "        if(fmax<fdev[i]):\n",
    "            fmax = fdev[i]\n",
    "            thetamax = theta[i]\n",
    "    if(iExtension):\n",
    "        print('Extension model parameters:')\n",
    "    else:\n",
    "        print('Compression model parameters:')\n",
    "    thetaDeg = thetamax*180./np.pi\n",
    "    print('Res = {0:3d}*{1:3d}; C0 = {2:.1f}; Cinf = {3:.2f}'.format(resX, resY, cohesion, cinf))\n",
    "    print('tan(phi) = {0:.1f}; theta = {1:.1f}'.format(tanPhi, thetaDeg))\n",
    "    f = open('summary.out','w')\n",
    "    f.write('{0:3d} {1:3d} {2:.1f} {3:.2f} {4:.1f} {5:.1f}'.format(resX, resY, cohesion, cinf, tanPhi, thetaDeg))\n",
    "    f.close()\n"
   ]
  },
  {
   "cell_type": "markdown",
   "metadata": {},
   "source": [
    "Benchmark values\n",
    "----\n",
    "\n",
    "The measured angle of the shear bands ($\\theta$) for the benchmark values given in Table 2 of Lemiale et al 2008 and the pre-run ``underworld`` models are given by:\n",
    "\n",
    "| $\\tan$$\\phi$ | $\\theta$, Extension | $\\theta_{UW}$, Extension | $\\theta$; Compression | $\\theta_{UW}$; Compression|\n",
    "|:-----------|:---------:|:---------:|:---------:|:-----------:|\n",
    "| 0.0        |   45      |     43.2    |    45     |     42.3      |\n",
    "| 0.2        |   38      |     37.8    |    50     |     48.6      |\n",
    "| 0.4        |   34      |     32.4    |    56     |     56.7      |\n",
    "| 0.6        |   29      |     27.9    |    60     |     -      |\n",
    "| 0.7        |   26      |     26.1    |           |             |\n",
    "\n",
    "All ``underworld`` and the benchmark models were run with resolution 384$\\times$128 until the shear band was clearly visible (20 steps for most UW models). Extension models were run with an initial box size of (3.0$\\times$1.0), $C_0 = 4.0$ and $C_\\infty = 3.95$. For the compression models the initial box size was (4.0$\\times$1.0), $C_0 = 20.0$ and $C_\\infty = 10.0$. The shear band for the compression model with $\\tan$$\\phi = 0.6$ was not sufficiently well resolved in the test run with 20 steps to give a reliable angle.\n",
    "\n",
    "Note that the uncertainty in the benchmark values is $\\pm 2^\\circ$."
   ]
  },
  {
   "cell_type": "markdown",
   "metadata": {
    "collapsed": true
   },
   "source": [
    "Notes:\n",
    "----\n",
    "\n",
    "1. This notebook will also work if run on a single processor.\n",
    "2. The angles will be different for low resolution runs compared to the benchmark values."
   ]
  },
  {
   "cell_type": "code",
   "execution_count": null,
   "metadata": {
    "collapsed": true
   },
   "outputs": [],
   "source": []
  }
 ],
 "metadata": {
  "kernelspec": {
   "display_name": "Python 2",
   "language": "python",
   "name": "python2"
  },
  "language_info": {
   "codemirror_mode": {
    "name": "ipython",
    "version": 2
   },
   "file_extension": ".py",
   "mimetype": "text/x-python",
   "name": "python",
   "nbconvert_exporter": "python",
   "pygments_lexer": "ipython2",
   "version": "2.7.10"
  }
 },
 "nbformat": 4,
 "nbformat_minor": 0
}
