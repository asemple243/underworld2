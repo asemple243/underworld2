{
 "cells": [
  {
   "cell_type": "markdown",
   "metadata": {},
   "source": [
    "# Simple FreeSurface example\n",
    "\n",
    "Romain Beucher Nov 2016\n",
    "romainbeucher@unimelb.edu.au"
   ]
  },
  {
   "cell_type": "code",
   "execution_count": null,
   "metadata": {
    "collapsed": false
   },
   "outputs": [],
   "source": [
    "import underworld as uw\n",
    "import glucifer\n",
    "from underworld import function as fn\n",
    "import numpy as np\n",
    "import os\n",
    "import glob\n",
    "import time as t\n",
    "\n",
    "uw.__version__"
   ]
  },
  {
   "cell_type": "code",
   "execution_count": null,
   "metadata": {
    "collapsed": true
   },
   "outputs": [],
   "source": [
    "minX  = -1.0\n",
    "maxX  =  1.0\n",
    "meshV =  0.0\n",
    "\n",
    "resX = 240\n",
    "resY = 120\n",
    "\n",
    "elementType=\"Q1/dQ0\"\n",
    "\n",
    "mesh = uw.mesh.FeMesh_Cartesian( elementType = (elementType), \n",
    "                                 elementRes  = ( resX, resY), \n",
    "                                 minCoord    = ( minX, 0.), \n",
    "                                 maxCoord    = ( maxX, 1.),\n",
    "                                 periodic    = [False, False]  )\n",
    "\n"
   ]
  },
  {
   "cell_type": "markdown",
   "metadata": {},
   "source": [
    "## Define some mesh Variables"
   ]
  },
  {
   "cell_type": "code",
   "execution_count": null,
   "metadata": {
    "collapsed": true
   },
   "outputs": [],
   "source": [
    "velocityField    = uw.mesh.MeshVariable( mesh=mesh,         nodeDofCount=mesh.dim )\n",
    "pressureField    = uw.mesh.MeshVariable( mesh=mesh.subMesh, nodeDofCount=1 )\n",
    "\n",
    "velocityField.data[:] = [0.,0.]\n",
    "pressureField.data[:] = 0."
   ]
  },
  {
   "cell_type": "markdown",
   "metadata": {},
   "source": [
    "### Setup the material swarm\n"
   ]
  },
  {
   "cell_type": "code",
   "execution_count": null,
   "metadata": {
    "collapsed": true
   },
   "outputs": [],
   "source": [
    "swarm  = uw.swarm.Swarm( mesh=mesh, particleEscape=True)\n",
    "swarmLayout = uw.swarm.layouts.PerCellSpaceFillerLayout( swarm=swarm, particlesPerCell=50 )\n",
    "swarm.populate_using_layout( layout=swarmLayout )\n",
    "\n",
    "# create pop control object\n",
    "pop_control = uw.swarm.PopulationControl(swarm, aggressive=True, particlesPerCell=50)"
   ]
  },
  {
   "cell_type": "markdown",
   "metadata": {},
   "source": [
    "### Create a particle advection system"
   ]
  },
  {
   "cell_type": "code",
   "execution_count": null,
   "metadata": {
    "collapsed": false
   },
   "outputs": [],
   "source": [
    "advector = uw.systems.SwarmAdvector( swarm=swarm, velocityField=velocityField, order=2 )"
   ]
  },
  {
   "cell_type": "markdown",
   "metadata": {},
   "source": [
    "## Add swarm Variable"
   ]
  },
  {
   "cell_type": "code",
   "execution_count": null,
   "metadata": {
    "collapsed": true
   },
   "outputs": [],
   "source": [
    "materialVariable = swarm.add_variable( dataType=\"int\", count=1 )"
   ]
  },
  {
   "cell_type": "markdown",
   "metadata": {},
   "source": [
    "# Material Distribution"
   ]
  },
  {
   "cell_type": "code",
   "execution_count": null,
   "metadata": {
    "collapsed": false
   },
   "outputs": [],
   "source": [
    "crust = 1\n",
    "mantleLithosphere = 2\n",
    "mantle = 3\n",
    "anomaly = 4\n",
    "\n",
    "coord = fn.input()\n",
    "\n",
    "conditions = [ ( coord[1] > 0.95, crust ), \n",
    "               ( coord[1] > 0.85, mantleLithosphere),\n",
    "               ( True, mantle)] \n",
    "\n",
    "materialVariable.data[:] = fn.branching.conditional( conditions ).evaluate(swarm)\n",
    "\n",
    "for index, coord in enumerate(swarm.particleCoordinates.data):\n",
    "    if coord[0] > -0.1 and coord[0] < 0.1 :\n",
    "        if coord[1] > 0.6 and coord[1] < 0.8 :\n",
    "            materialVariable.data[index] = 4"
   ]
  },
  {
   "cell_type": "markdown",
   "metadata": {},
   "source": [
    "## Assign Materials Property"
   ]
  },
  {
   "cell_type": "code",
   "execution_count": null,
   "metadata": {
    "collapsed": false
   },
   "outputs": [],
   "source": [
    "densityMap   = { crust : 1.3, mantleLithosphere : 1.3, mantle : 1.3, anomaly: 0.9 }\n",
    "rhoFn = fn.branching.map( fn_key = materialVariable, mapping = densityMap )\n",
    "\n",
    "fn_force = rhoFn * (0.0,-1.0)\n",
    "\n",
    "\n",
    "viscosityMap = { crust : 300.0, mantleLithosphere : 300.0, mantle : 1.0, anomaly: 500.0 }\n",
    "viscosityFn = fn.branching.map( fn_key = materialVariable, mapping = viscosityMap )"
   ]
  },
  {
   "cell_type": "markdown",
   "metadata": {},
   "source": [
    "# Boundary Conditions"
   ]
  },
  {
   "cell_type": "code",
   "execution_count": null,
   "metadata": {
    "collapsed": false
   },
   "outputs": [],
   "source": [
    "iWalls = mesh.specialSets[\"MinI_VertexSet\"] + mesh.specialSets[\"MaxI_VertexSet\"]\n",
    "jWalls = mesh.specialSets[\"MinJ_VertexSet\"] + mesh.specialSets[\"MaxJ_VertexSet\"]\n",
    "base   = mesh.specialSets[\"MinJ_VertexSet\"]\n",
    "top    = mesh.specialSets[\"MaxJ_VertexSet\"]\n",
    "\n",
    "allWalls = iWalls + jWalls\n",
    "\n",
    "velocityBCs = uw.conditions.DirichletCondition( variable        = velocityField, \n",
    "                                                indexSetsPerDof = (iWalls, base) )"
   ]
  },
  {
   "cell_type": "code",
   "execution_count": null,
   "metadata": {
    "collapsed": false
   },
   "outputs": [],
   "source": [
    "figdef = glucifer.Figure( figsize=(1200,400))\n",
    "figdef.append(glucifer.objects.Points(swarm,materialVariable,pointSize=5.))\n",
    "figdef.append(glucifer.objects.VectorArrows(mesh=mesh, fn=velocityField, scaling=30))\n",
    "figdef.append(glucifer.objects.Mesh(mesh))\n",
    "figdef.show()"
   ]
  },
  {
   "cell_type": "markdown",
   "metadata": {},
   "source": [
    "# Set up Stokes"
   ]
  },
  {
   "cell_type": "code",
   "execution_count": null,
   "metadata": {
    "collapsed": false
   },
   "outputs": [],
   "source": [
    "stokes = uw.systems.Stokes(    velocityField = velocityField, \n",
    "                               pressureField = pressureField,\n",
    "                               conditions    = velocityBCs,\n",
    "                               fn_viscosity  = viscosityFn, \n",
    "                               fn_bodyforce  = fn_force)\n",
    "\n",
    "solver = uw.systems.Solver( stokes )"
   ]
  },
  {
   "cell_type": "code",
   "execution_count": null,
   "metadata": {
    "collapsed": true
   },
   "outputs": [],
   "source": [
    "from scipy.interpolate import interp1d\n",
    "\n",
    "\n",
    "def updateMesh():\n",
    "    # Extract top surface\n",
    "    x = mesh.data[list(top)][:,0]\n",
    "    y = mesh.data[list(top)][:,1]\n",
    "\n",
    "    # Extract velocities from top\n",
    "    vx = velocityField.data[list(top)][:,0]\n",
    "    vy = velocityField.data[list(top)][:,1]\n",
    "\n",
    "    # Advect top surface\n",
    "    x2 = x + vx * dt\n",
    "    y2 = y + vy * dt\n",
    "\n",
    "    # Spline top surface\n",
    "    f = interp1d(x2, y2, kind='cubic')\n",
    "    xnew = x2\n",
    "    ynew = f(xnew)\n",
    "\n",
    "    yb = 0.0\n",
    "    dh = ynew - y\n",
    "    rh1 = y - yb # Model Height\n",
    "    rh2 = ynew - yb\n",
    "\n",
    "    dilat = rh2 / rh1\n",
    "\n",
    "    with mesh.deform_mesh():\n",
    "        node = 0\n",
    "        for row in range(resY+1):\n",
    "            index = 0\n",
    "            for col in range(resX+1):\n",
    "                mesh.data[node][1] = yb + dilat[index]*(mesh.data[node][1] - yb)\n",
    "                index += 1\n",
    "                node += 1\n"
   ]
  },
  {
   "cell_type": "code",
   "execution_count": null,
   "metadata": {
    "collapsed": false
   },
   "outputs": [],
   "source": [
    "step = 0\n",
    "nsteps = 10\n",
    "\n",
    "while step < nsteps:\n",
    "    solver.solve()\n",
    "    dt = advector.get_max_dt()\n",
    "    # advect swarm\n",
    "    advector.integrate(dt)\n",
    "    pop_control.repopulate()\n",
    "    \n",
    "    print step, dt\n",
    "    \n",
    "    t0 = t.time()\n",
    "    updateMesh()\n",
    "    print(\"Time {}: \", t.time() - t0)\n",
    "    \n",
    "    figdef.save_image(\"image\"+str(step)+\".png\")\n",
    "    step+=1"
   ]
  }
 ],
 "metadata": {
  "kernelspec": {
   "display_name": "Python 2",
   "language": "python2",
   "name": "python2"
  },
  "language_info": {
   "codemirror_mode": {
    "name": "ipython",
    "version": 2
   },
   "file_extension": ".py",
   "mimetype": "text/x-python",
   "name": "python",
   "nbconvert_exporter": "python",
   "pygments_lexer": "ipython2",
   "version": "2.7.13"
  }
 },
 "nbformat": 4,
 "nbformat_minor": 1
}
