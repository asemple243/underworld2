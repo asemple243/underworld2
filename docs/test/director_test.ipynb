{
 "cells": [
  {
   "cell_type": "code",
   "execution_count": 1,
   "metadata": {},
   "outputs": [],
   "source": [
    "import underworld as uw\n",
    "import glucifer\n",
    "import numpy as np"
   ]
  },
  {
   "cell_type": "code",
   "execution_count": 2,
   "metadata": {},
   "outputs": [],
   "source": [
    "# create periodic mesh\n",
    "mesh = uw.mesh.FeMesh_Cartesian(minCoord=(-1,-1), maxCoord=(1,1), periodic=(True,False))"
   ]
  },
  {
   "cell_type": "code",
   "execution_count": 3,
   "metadata": {},
   "outputs": [],
   "source": [
    "velocity = mesh.add_variable( 2)"
   ]
  },
  {
   "cell_type": "code",
   "execution_count": 4,
   "metadata": {},
   "outputs": [],
   "source": [
    "# setup shear\n",
    "velocity.data[:] = (0.,0.)\n",
    "velocity.data[:,0] = 2.*mesh.data[:,1]"
   ]
  },
  {
   "cell_type": "code",
   "execution_count": 5,
   "metadata": {},
   "outputs": [
    {
     "data": {
      "text/html": [
       "<img src='data:image/png;base64,iVBORw0KGgoAAAANSUhEUgAAAoAAAAHgAQAAAAAdquFJAAADjElEQVR4Ae3VP5LaSBTH8UcRKNQRdJAN+mAOmsyhj8BRoMqBQw7grUUuB4TIRYAoRH/3jXr+eGaQds1uMPL8VGW35ovmM6/pQMb/fAkUKFCgQIECBQr8rcAIO0h+t4WLLys4537Mndz5uY+AFXzzXwzwBTp//BO0uf/IffeyfxsB7aZrbMKtj3DwSXyEjU/iZQknX0Lesvf9i37+Pgr++imcRw9FoECBAgUKFHgz+NfTm3yb3+Sr/g3PtX7o3/zn3Qi4sKqxOWahtiKZxbWVnc0Gut311vvYhAF2eZJNnmTZT8KrXuUJw/iEEzgUgQIFChQoUODN4J8RNnDy2yUcfAmwg5R7d6WfNyNgbaGzgoXF1kpsRmNVsvlDXw/0f73lY172L3f5rJ+30z4UgQIFChQo8H2Bq3wb+//T01951e/B1QjYGMlK1jM6q1jMaS1gxUOvB/qvTujXZWDyyz9MOJFDEShQoECBAgXeArYzWASauX8QqQuSf74uB3t316uxCb/6vwhHSH63h0se+36Ma/0cJv0dChQoUKBAgQLfDtgVsI60JSygqWAGdaCbX+8p9ylvWaBAgQIFChT4hsASakgVfIYuwEdoY9+b4T7pLQsUKFCgQIECf2NwmR+IcITkdxu4PPXw2PfP+pS3LFCgQIECBQp8U+DJlxUcfYmwh+5ZPzz29NQnvmWBAgUKFChQ4O8KltBAquAbdAE+QxuHe9H3SW9ZoECBAgUKFPhmwDSHdaQrYAFtCTNoqtzD9V6HSW9ZoECBAgUKFPh2wG7bm3fPrODoS4T949961ZPffR0D2xksAs3cP4jUBck/X5d0d70a7FP+DgUKFChQoECBN4MXB1f5mdiHdN/pO9f6KNhYxEpqo7OK9YzWAotioM8f+viEDEzCwOQTPxSBAgUKFCjw/YDnDB7zT/uXv3u1j4K1hc4K1hZbK1kYjVXJ5gN99tCHwcOWFGEHnf+0gZMvwTtX+jL3P6Z9KAIFChQoUKDAm8Hdli7CBlr/aQkHX4J36Oj76VX/MAaurWpthllobJ7MYm1FZ+a9vOuLgT46YcoTXvIk5zzJEZLf7a/1D9M+FIECBQoUKPD9gF+2dPRv8hOPb/LYv+Gf90PuG++joN10jYAfofWlgh8+gk+y8xF8kk8v+/fc758fBn1r6embXOUl/twvuZ9z3+U+cij//RIoUKBAgQIFChQ4afBv89GGpzGEAGgAAAAASUVORK5CYII='>"
      ],
      "text/plain": [
       "<IPython.core.display.HTML object>"
      ]
     },
     "metadata": {},
     "output_type": "display_data"
    }
   ],
   "source": [
    "fig = glucifer.Figure()\n",
    "fig.append( glucifer.objects.VectorArrows(mesh,velocity, scaling=0.05))\n",
    "fig.show()"
   ]
  },
  {
   "cell_type": "code",
   "execution_count": 6,
   "metadata": {},
   "outputs": [],
   "source": [
    "swarm = uw.swarm.Swarm(mesh)\n",
    "normal = swarm.add_variable('double',2)\n",
    "swarm.populate_using_layout(uw.swarm.layouts.GlobalSpaceFillerLayout(swarm,20))"
   ]
  },
  {
   "cell_type": "code",
   "execution_count": 7,
   "metadata": {},
   "outputs": [],
   "source": [
    "fig.append(glucifer.objects.Points(swarm,pointSize=3., pointType=1, colourBar=False))"
   ]
  },
  {
   "cell_type": "code",
   "execution_count": 8,
   "metadata": {},
   "outputs": [
    {
     "data": {
      "text/html": [
       "<img src='data:image/png;base64,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'>"
      ],
      "text/plain": [
       "<IPython.core.display.HTML object>"
      ]
     },
     "metadata": {},
     "output_type": "display_data"
    }
   ],
   "source": [
    "fig.show()"
   ]
  },
  {
   "cell_type": "code",
   "execution_count": 9,
   "metadata": {},
   "outputs": [],
   "source": [
    "# initialise to point upwards\n",
    "normal.data[:] = (1.,0.)"
   ]
  },
  {
   "cell_type": "code",
   "execution_count": 10,
   "metadata": {},
   "outputs": [],
   "source": [
    "# cast to mesh so we can see\n",
    "cast_var = mesh.add_variable(2)\n",
    "cast = uw.utils.MeshVariable_Projection(cast_var,normal)"
   ]
  },
  {
   "cell_type": "code",
   "execution_count": 11,
   "metadata": {},
   "outputs": [],
   "source": [
    "# viz \n",
    "normal_fig = glucifer.Figure()\n",
    "normal_fig.append(glucifer.objects.VectorArrows(mesh,cast_var,scaling=0.001))"
   ]
  },
  {
   "cell_type": "code",
   "execution_count": 12,
   "metadata": {},
   "outputs": [
    {
     "data": {
      "text/html": [
       "<img src='data:image/png;base64,iVBORw0KGgoAAAANSUhEUgAAAoAAAAHgAQAAAAAdquFJAAABKElEQVR4Ae3OMWrDQBCGUYHvfyffJEdwOYUYJYUX0nhEhJKMWL9pBIv+x7d8/vIBgUAgEAgEAoH/Cd6Xw3fbBT+OJ61AIBAIBAKB35eFlJcpBAKBQCAQCCzB8UMU++gvBAKBQCAQ+BbgVhDjPfsLgUAgEAgEzgpGsR/vj/5CIBAIBAKBwEPg9vxkIWV/IRAIBAKBwOnAdX8Y/YVAIBAIBAKBJ8B8ObxSIRAIBAKBwInBfDm8UiEQCAQCgUBgCa77w+gvBAKBQCAQ+Bbg9vxkIWV/IRAIBAKBQOAPwSj24/3RXwgEAoFAIHBucCuI8Z79hUAgEAgEAqcDxw9R7KO/EAgEAoFAIPAEmIWUlykEAoFAIBA4CXhfDt9tFzx/QCAQCAQCgUDgn4Jf+g7SRfnMzXkAAAAASUVORK5CYII='>"
      ],
      "text/plain": [
       "<IPython.core.display.HTML object>"
      ]
     },
     "metadata": {},
     "output_type": "display_data"
    }
   ],
   "source": [
    "cast.solve()\n",
    "normal_fig.show()"
   ]
  },
  {
   "cell_type": "code",
   "execution_count": 13,
   "metadata": {},
   "outputs": [],
   "source": [
    "# just use advector system to get some reasonable dt\n",
    "advector = uw.systems.SwarmAdvector(velocity,swarm)\n",
    "dt = advector.get_max_dt()\n",
    "# dt = 0.05"
   ]
  },
  {
   "cell_type": "code",
   "execution_count": 14,
   "metadata": {},
   "outputs": [],
   "source": [
    "# get grad on all particles.. particles are not moving, and velocity is fixed, so only need to do this once.\n",
    "velgrad = velocity.fn_gradient.evaluate(swarm)"
   ]
  },
  {
   "cell_type": "code",
   "execution_count": 15,
   "metadata": {},
   "outputs": [],
   "source": [
    "time = 0.\n",
    "maxtime = 100.\n",
    "while time<maxtime:\n",
    "    # expected angle\n",
    "    angle = 0.5 * np.pi - np.arctan2(1.,2.*time)\n",
    "    # director angles\n",
    "    angleDirector = np.arctan2(-normal.data[:,1],normal.data[:,0])\n",
    "    # angle errors\n",
    "    angleError = angle - angleDirector\n",
    "\n",
    "    # calculate $\\dot n_i = -L_{ji} n_j$\n",
    "    n_dot_x = -(velgrad[:,0]*normal.data[:,0] + velgrad[:,2]*normal.data[:,1])\n",
    "    n_dot_y = -(velgrad[:,1]*normal.data[:,0] + velgrad[:,3]*normal.data[:,1])\n",
    "    # apply forward euler\n",
    "    normal.data[:,0] += dt*n_dot_x\n",
    "    normal.data[:,1] += dt*n_dot_y\n",
    "\n",
    "    time += dt\n",
    "    \n",
    "    # check if any angles not as expected\n",
    "    if (np.abs(angleError) > 1e-15).any():\n",
    "        raise RuntimeError(\"Director test failed.\")"
   ]
  },
  {
   "cell_type": "code",
   "execution_count": 16,
   "metadata": {},
   "outputs": [
    {
     "data": {
      "text/html": [
       "<img src='data:image/png;base64,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'>"
      ],
      "text/plain": [
       "<IPython.core.display.HTML object>"
      ]
     },
     "metadata": {},
     "output_type": "display_data"
    }
   ],
   "source": [
    "cast.solve()\n",
    "normal_fig.show()"
   ]
  },
  {
   "cell_type": "code",
   "execution_count": null,
   "metadata": {},
   "outputs": [],
   "source": []
  }
 ],
 "metadata": {
  "kernelspec": {
   "display_name": "Python 3",
   "language": "python",
   "name": "python3"
  },
  "language_info": {
   "codemirror_mode": {
    "name": "ipython",
    "version": 3
   },
   "file_extension": ".py",
   "mimetype": "text/x-python",
   "name": "python",
   "nbconvert_exporter": "python",
   "pygments_lexer": "ipython3",
   "version": "3.6.2"
  }
 },
 "nbformat": 4,
 "nbformat_minor": 1
}
