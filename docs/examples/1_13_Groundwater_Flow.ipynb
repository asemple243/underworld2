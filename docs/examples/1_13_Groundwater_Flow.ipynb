{
 "cells": [
  {
   "cell_type": "markdown",
   "metadata": {},
   "source": [
    "# 1D Darcy Flow (Groundwater) Solution and Benchmark"
   ]
  },
  {
   "cell_type": "code",
   "execution_count": 1,
   "metadata": {},
   "outputs": [],
   "source": [
    "import underworld as uw\n",
    "import glucifer\n",
    "import numpy\n",
    "import matplotlib.pyplot as plt\n",
    "\n",
    "uw.matplotlib_inline()"
   ]
  },
  {
   "cell_type": "markdown",
   "metadata": {},
   "source": [
    "This notebook demonstrates the use of the ``uw.systems.SteadyStateDarcyFlow`` class, which solves for darcy flow (e.g. groundwater flow):\n",
    "\n",
    "$\\nabla q = 0$\n",
    "\n",
    "$q = \\kappa \\left( -\\nabla p + S \\right)$ \n",
    "\n",
    "where $q$ is the flow velocity, $p$ is the fluid pressure head, $\\kappa$ hydraulic diffusivity and $S$ is a hydraulic gradient source. $S$ is usually a gravitational term, for example $S = \\rho g$, where $\\rho$ is fluid density and $g$ is the  gravitational accelleration vector.\n",
    "\n",
    "We will set up a simple example of flow through two  of strongly contrasting $\\kappa$ and compare the soultion to a 1D benchmark."
   ]
  },
  {
   "cell_type": "markdown",
   "metadata": {},
   "source": [
    "---\n",
    "\n",
    "*Set up mesh and fields*\n",
    "\n",
    "**Note:** The velocity solution is extremely sensitive to the pressure gradient. A higher order shape function (Q2) may result in a more accurate solution of the pressure field, in the case of material variation within a cell, but the velocity would then be linearly variable within that cell. It is therefore best to use a linear shape function (Q1) and asign just one material per cell."
   ]
  },
  {
   "cell_type": "code",
   "execution_count": 2,
   "metadata": {},
   "outputs": [],
   "source": [
    "\n",
    "elementType = \"Q1\"\n",
    "resX = 16\n",
    "resY = 16\n",
    "mesh = uw.mesh.FeMesh_Cartesian( elementType = (elementType), \n",
    "                                 elementRes  = (resX, resY), \n",
    "                                 minCoord    = (-1., -1.), \n",
    "                                 maxCoord    = (0., 0.)) \n",
    "\n",
    "gwPressureField    = uw.mesh.MeshVariable( mesh=mesh, nodeDofCount=1 )\n",
    "hydraulicDiffusivityField    = uw.mesh.MeshVariable( mesh=mesh, nodeDofCount=1 )\n",
    "velocityField = uw.mesh.MeshVariable(mesh=mesh,nodeDofCount=2)\n",
    "\n"
   ]
  },
  {
   "cell_type": "markdown",
   "metadata": {},
   "source": [
    "*Set up the types of boundary conditions*\n",
    "\n",
    "**Note:** The darcy-flow solver does also work for a lower free-slip boundary condition, but only if a strong horizontal flow component exists, such as arises when there is topographic variation. "
   ]
  },
  {
   "cell_type": "code",
   "execution_count": 3,
   "metadata": {},
   "outputs": [],
   "source": [
    "iWalls = mesh.specialSets[\"MinI_VertexSet\"] + mesh.specialSets[\"MaxI_VertexSet\"]\n",
    "jWalls = mesh.specialSets[\"MinJ_VertexSet\"] + mesh.specialSets[\"MaxJ_VertexSet\"]\n",
    "topWall = mesh.specialSets[\"MaxJ_VertexSet\"]\n",
    "bottomWall = mesh.specialSets[\"MinJ_VertexSet\"]\n",
    "\n",
    "gwPressureBC = uw.conditions.DirichletCondition( variable        = gwPressureField, \n",
    "                                               indexSetsPerDof = ( topWall+ bottomWall    ) )\n"
   ]
  },
  {
   "cell_type": "markdown",
   "metadata": {},
   "source": [
    "*Choose the pressure set at the lower wall and set an initially linear pressure field which is consistent with the BCs*"
   ]
  },
  {
   "cell_type": "code",
   "execution_count": 4,
   "metadata": {},
   "outputs": [],
   "source": [
    "#Groundwater pressure boundary condition on the bottom wall\n",
    "#    this value is relative to gravity\n",
    "maxgwpressure = 0.5\n",
    "\n",
    "yCoordFn = uw.function.input()[1]\n",
    "initialFn = -1. * yCoordFn * maxgwpressure\n",
    "\n",
    "gwPressureField.data[:] = initialFn.evaluate(mesh)\n"
   ]
  },
  {
   "cell_type": "markdown",
   "metadata": {},
   "source": [
    "*Set up swarm*\n",
    "\n",
    "**Imporant Note:** The swarm is used for setting the $\\kappa$ for a cell. As a result of our choice of a linear shape-function (Q1), there is a single constant pressure gradient solved for each cell. If we were to use particles with strongly contrasting $\\kappa$ in one cell, the actual solution should involve a strong variation in pressure gradient which cannot be reproduced by the constant pressure gradient solved. It is therefore recommended that only one particle is used per cell. For the same reason, velocity should be calculated inside the cell, rather than on the mesh. Our swarm is used both for setting $\\kappa$ and calculating the velocity.\n"
   ]
  },
  {
   "cell_type": "code",
   "execution_count": 5,
   "metadata": {},
   "outputs": [],
   "source": [
    "swarm         = uw.swarm.Swarm( mesh=mesh )\n",
    "swarmLayout = uw.swarm.layouts.PerCellGaussLayout(swarm=swarm,gaussPointCount=1)\n",
    "swarm.populate_using_layout(swarmLayout)\n"
   ]
  },
  {
   "cell_type": "markdown",
   "metadata": {},
   "source": [
    "Set up swarm variables: material ID and velocity. The velocity variable is where the velocity solution can be stored."
   ]
  },
  {
   "cell_type": "code",
   "execution_count": 6,
   "metadata": {},
   "outputs": [],
   "source": [
    "materialIndex  = swarm.add_variable( dataType=\"int\",    count=1 )\n",
    "materialVelocity  = swarm.add_variable( dataType=\"double\",    count=2 )\n",
    "\n",
    "materialPorous        = 0\n",
    "materialImpermeable   = 1\n"
   ]
  },
  {
   "cell_type": "markdown",
   "metadata": {},
   "source": [
    "Set up a horizontal interface between the two materials"
   ]
  },
  {
   "cell_type": "code",
   "execution_count": 7,
   "metadata": {},
   "outputs": [],
   "source": [
    "xCoordFn = uw.function.input()[0]\n",
    "yCoordFn = uw.function.input()[1]\n",
    "\n",
    "interfaceY = -0.25\n",
    "\n",
    "conditions = [ (yCoordFn > interfaceY, materialPorous),\n",
    "               ( True , materialImpermeable )]\n",
    "\n",
    "materialfn = uw.function.branching.conditional( conditions )\n",
    "materialIndex.data[:]  = materialfn.evaluate(swarm)\n"
   ]
  },
  {
   "cell_type": "markdown",
   "metadata": {},
   "source": [
    "Assign a different $\\kappa$ to each material. The upper layer in this case is much more permeable than the lower."
   ]
  },
  {
   "cell_type": "code",
   "execution_count": 8,
   "metadata": {},
   "outputs": [],
   "source": [
    "Ka = 1.\n",
    "Kb = 1e-3\n",
    "\n",
    "hydraulicDiffusivityMap = { materialPorous : Ka, \n",
    "                 materialImpermeable : Kb}\n",
    "hydraulicDiffusivityMapFn = uw.function.branching.map( fn_key = materialIndex, mapping = hydraulicDiffusivityMap )\n",
    "\n"
   ]
  },
  {
   "cell_type": "markdown",
   "metadata": {},
   "source": [
    "Let's check that the $\\kappa$ asigned to each particle looks correct:"
   ]
  },
  {
   "cell_type": "code",
   "execution_count": 9,
   "metadata": {
    "scrolled": false
   },
   "outputs": [
    {
     "data": {
      "text/html": [
       "<img src='data:image/png;base64,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'>"
      ],
      "text/plain": [
       "<IPython.core.display.HTML object>"
      ]
     },
     "metadata": {},
     "output_type": "display_data"
    }
   ],
   "source": [
    "figMaterial = glucifer.Figure( figsize=(800,400), title=\"Hydraulic Diffusivity\" )\n",
    "figMaterial.append( glucifer.objects.Points(swarm, hydraulicDiffusivityMapFn, pointSize=5.0) )\n",
    "\n",
    "figMaterial.append( glucifer.objects.Mesh(mesh))\n",
    "figMaterial.show()"
   ]
  },
  {
   "cell_type": "markdown",
   "metadata": {},
   "source": [
    "*Setup the dary flow (groundwater) equation*"
   ]
  },
  {
   "cell_type": "code",
   "execution_count": 10,
   "metadata": {},
   "outputs": [],
   "source": [
    "g = uw.function.misc.constant((0.,-1.))\n",
    "\n",
    "\n",
    "gwadvDiff = uw.systems.SteadyStateDarcyFlow(velocityField=velocityField,\n",
    "        pressureField = gwPressureField, fn_diffusivity = hydraulicDiffusivityMapFn,\n",
    "        conditions=[gwPressureBC],fn_bodyforce=g, \n",
    "        voronoi_swarm=swarm,swarmVarVelocity=materialVelocity)\n",
    "gwsolver = uw.systems.Solver(gwadvDiff)\n"
   ]
  },
  {
   "cell_type": "markdown",
   "metadata": {},
   "source": [
    "*Solve*"
   ]
  },
  {
   "cell_type": "code",
   "execution_count": 11,
   "metadata": {},
   "outputs": [],
   "source": [
    "gwsolver.solve()\n"
   ]
  },
  {
   "cell_type": "markdown",
   "metadata": {},
   "source": [
    "*Visualise the groundwater solution, by plotting it for $x=-1$ (left wall).*\n",
    "\n",
    "This model is simple enough that there is an equivalent 1D analytic, which we can use as a benchmark. Out of interest, let's also plot what the solution would look like without the gravity term.\n",
    "\n",
    "The grey lines are the horizontal element edges. Note that an resolution has been chosen so that the interface boundary is accurately resolved."
   ]
  },
  {
   "cell_type": "code",
   "execution_count": 12,
   "metadata": {
    "scrolled": true
   },
   "outputs": [
    {
     "data": {
      "image/png": "[encoded data removed]",
      "text/plain": [
       "<matplotlib.figure.Figure at 0x11164b160>"
      ]
     },
     "metadata": {},
     "output_type": "display_data"
    }
   ],
   "source": [
    "\n",
    "if uw.rank() == 0:\n",
    "    arrX = numpy.linspace(-1,0,2)\n",
    "    plt.ylim(-1,0.)\n",
    "    plt.xlim(-1e-2,1)\n",
    "\n",
    "arrY = numpy.linspace(-1,0.,100)\n",
    "x = -1.\n",
    "arrP = gwPressureField.evaluate_global(numpy.array(list(zip(numpy.ones(100)*x,arrY))))\n",
    "\n",
    "if uw.rank() == 0:\n",
    "    plt.plot(arrP,arrY,c='red',label='Numerical')\n",
    "\n",
    "\n",
    "    for S in [1.,0.]:\n",
    "        La = -1. * interfaceY\n",
    "        Lb = 1. + interfaceY\n",
    "        dP = maxgwpressure\n",
    "        Pa = (dP/Lb - S + Ka/Kb * S) / (1./Lb + Ka/Kb/La)\n",
    "        arrYl = numpy.linspace(-La,0.,3)\n",
    "        if S == 0.:\n",
    "            label = \"Analytical\\n(No gravity)\"\n",
    "            line = \"-.\"\n",
    "        else:\n",
    "            label = 'Analytical'\n",
    "            line = \"--\"\n",
    "        plt.plot(Pa*(-arrYl)/(La),arrYl,line,c=\"black\",label = label)\n",
    "        arrYl = numpy.linspace(-La,-1,3)\n",
    "        plt.plot(Pa + (dP-Pa)*(-arrYl-La)/Lb,arrYl,line,c=\"black\")\n",
    "    \n",
    "if uw.rank() == 0:\n",
    "    plt.xlabel('Pressure')\n",
    "    plt.ylabel('Depth')\n",
    "    plt.legend()\n",
    "    \n",
    "    for meshY in numpy.linspace(-1,0,resY+1):\n",
    "        plt.plot(numpy.linspace(0,1,2),numpy.ones(2)*meshY,c=\"black\",alpha=0.3)\n",
    "\n",
    "    \n",
    "    plt.savefig('PressureSolution.pdf')\n",
    "\n"
   ]
  },
  {
   "cell_type": "markdown",
   "metadata": {},
   "source": [
    "The velocity solution was found on the swarm, so let's visualise the swarm variable where it is kept. The vertical component of the velocity vector field is visualised. Note the colourbar - the solution is relatively constant, as it should be for flow conservation."
   ]
  },
  {
   "cell_type": "code",
   "execution_count": 13,
   "metadata": {
    "scrolled": true
   },
   "outputs": [
    {
     "data": {
      "text/html": [
       "<img src='data:image/png;base64,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'>"
      ],
      "text/plain": [
       "<IPython.core.display.HTML object>"
      ]
     },
     "metadata": {},
     "output_type": "display_data"
    }
   ],
   "source": [
    "\n",
    "\n",
    "figMaterial = glucifer.Figure( figsize=(800,400), title=\"Velocity Calculated on Swarm\" )\n",
    "figMaterial.append( glucifer.objects.Points(swarm, materialVelocity[1], pointSize=5.0) )\n",
    "\n",
    "figMaterial.append( glucifer.objects.Mesh(mesh))\n",
    "figMaterial.show()\n",
    "\n"
   ]
  },
  {
   "cell_type": "markdown",
   "metadata": {},
   "source": [
    "Plot the same velocity field as vectors, over the pressure field solution."
   ]
  },
  {
   "cell_type": "code",
   "execution_count": 14,
   "metadata": {},
   "outputs": [
    {
     "data": {
      "text/html": [
       "<img src='data:image/png;base64,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'>"
      ],
      "text/plain": [
       "<IPython.core.display.HTML object>"
      ]
     },
     "metadata": {},
     "output_type": "display_data"
    }
   ],
   "source": [
    "figMaterial = glucifer.Figure( figsize=(800,400),title=\"Ground-Water Pressure Field and Velocity Vectors\" )\n",
    "figMaterial.append(glucifer.objects.Surface(mesh,gwPressureField,onMesh=True))\n",
    "scale = 0.03\n",
    "figMaterial.append(glucifer.objects.VectorArrows(mesh,velocityField,scaling=50,arrowHead=0.3))\n",
    "figMaterial.show()\n"
   ]
  },
  {
   "cell_type": "markdown",
   "metadata": {},
   "source": [
    "We can also compare the velocity calculated on the swarm to an analytical solution."
   ]
  },
  {
   "cell_type": "code",
   "execution_count": 15,
   "metadata": {},
   "outputs": [
    {
     "data": {
      "image/png": "[encoded data removed]",
      "text/plain": [
       "<matplotlib.figure.Figure at 0x1124b1358>"
      ]
     },
     "metadata": {},
     "output_type": "display_data"
    }
   ],
   "source": [
    "\n",
    "\n",
    "x = -1.\n",
    "n = 30\n",
    "arrYsample = numpy.linspace(-1+(1./resY),0.,resY)\n",
    "arrY = numpy.linspace(-1,0.,n)\n",
    "\n",
    "arrP = numpy.array(velocityField[1].evaluate_global(numpy.array(list(zip(numpy.ones(len(arrYsample))*x,arrYsample)))))\n",
    "\n",
    "if uw.rank() == 0:\n",
    "    plt.clf()\n",
    "    plt.scatter(arrP,arrYsample,lw=0,alpha=0.5,label=\"Numerical\")\n",
    "\n",
    "    S = 1.\n",
    "    La = -1. * interfaceY\n",
    "    Lb = 1. + interfaceY\n",
    "    dP = maxgwpressure\n",
    "    midPressure = (dP/Lb - S + Ka/Kb * S) / (1./Lb + Ka/Kb/La)\n",
    "\n",
    "    arrVel = numpy.zeros(len(arrY))\n",
    "\n",
    "    for i in range(len(arrY)):\n",
    "        if arrY[i] > interfaceY:\n",
    "            arrVel[i] = (-midPressure / -La - 1.) * Ka\n",
    "        else:\n",
    "            arrVel[i] = (-(dP - midPressure)/-Lb - 1.) * Kb\n",
    "\n",
    "    plt.plot( (arrVel) ,arrY,c=\"black\",label=\"Analytical\")\n",
    "\n",
    "    plt.ylim(-1,0.)\n",
    "    avAnVel = numpy.average(arrVel)\n",
    "    plt.xlim(-0.25*avAnVel + avAnVel,0.25*avAnVel+avAnVel)\n",
    "    plt.ticklabel_format(style='sci', axis='x', scilimits=(0,0))\n",
    "    plt.legend()\n",
    "    plt.xlabel('Vertical Velocity')\n",
    "    plt.ylabel('Depth')\n",
    "\n",
    "    plt.savefig(\"VelocitySolution.pdf\")\n"
   ]
  },
  {
   "cell_type": "code",
   "execution_count": null,
   "metadata": {},
   "outputs": [],
   "source": []
  }
 ],
 "metadata": {
  "kernelspec": {
   "display_name": "Python 3",
   "language": "python",
   "name": "python3"
  },
  "language_info": {
   "codemirror_mode": {
    "name": "ipython",
    "version": 3
   },
   "file_extension": ".py",
   "mimetype": "text/x-python",
   "name": "python",
   "nbconvert_exporter": "python",
   "pygments_lexer": "ipython3",
   "version": "3.6.2"
  }
 },
 "nbformat": 4,
 "nbformat_minor": 1
}
