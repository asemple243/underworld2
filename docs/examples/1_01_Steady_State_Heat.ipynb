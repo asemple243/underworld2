{
 "cells": [
  {
   "cell_type": "markdown",
   "metadata": {},
   "source": [
    "Steady state heat equation\n",
    "======\n",
    "\n",
    "This notebook will setup and solve the steady state heat equation:\n",
    "\n",
    "\\\\[\n",
    "\\nabla(k\\nabla)T = h\n",
    "\\\\]\n",
    "\n",
    "where $k$ is the diffusivity, T the temperature field and $h$ the source term.\n",
    "\n",
    "**Keywords:** initial conditions, boundary conditions, heat equation"
   ]
  },
  {
   "cell_type": "code",
   "execution_count": 1,
   "metadata": {},
   "outputs": [],
   "source": [
    "import underworld as uw\n",
    "import glucifer"
   ]
  },
  {
   "cell_type": "markdown",
   "metadata": {},
   "source": [
    "Setup parameters\n",
    "-----"
   ]
  },
  {
   "cell_type": "code",
   "execution_count": 2,
   "metadata": {},
   "outputs": [],
   "source": [
    "# Set box size.\n",
    "boxHeight = 1.0\n",
    "boxLength = 2.0\n",
    "# Set the resolution.\n",
    "resx = 16\n",
    "resy = 8"
   ]
  },
  {
   "cell_type": "markdown",
   "metadata": {},
   "source": [
    "Create mesh and variables\n",
    "------"
   ]
  },
  {
   "cell_type": "code",
   "execution_count": 3,
   "metadata": {},
   "outputs": [],
   "source": [
    "mesh = uw.mesh.FeMesh_Cartesian( elementType = (\"Q1/dQ0\"), \n",
    "                                 elementRes  = (resx, resy), \n",
    "                                 minCoord    = (0., 0.), \n",
    "                                 maxCoord    = (boxLength, boxHeight))"
   ]
  },
  {
   "cell_type": "code",
   "execution_count": 4,
   "metadata": {},
   "outputs": [
    {
     "data": {
      "text/html": [
       "<img src='data:image/png;base64,iVBORw0KGgoAAAANSUhEUgAAAyAAAAGQAQAAAAB+XjmZAAABBklEQVR4Ae3QsU3AQAyGUW/gkTMao+ANQkcRQVAojiKtg5B5X3HSycWT/jh/IQgEAoFAIBAIBAL5n0hFe3lD9us5rufj+79dz8u6vK/L57kur+ty/Fy2ddkhEAgEAoFAIBAIBAKBPINUtJeD54JAIBAIBAKBQCAQCATSglS0l4PngkAgEAgEAoFAIBAIZD5S0V4OngsCgUAgEAgEAoFAIBBIC1LRXg6eCwKBQCAQCAQCgUAgkPlIRXs5eC4IBAKBQCAQCAQCgUAgLUhFezl4LggEAoFAIBAIBAKBQOYjFe3l4LkgEAgEAoFAIBAIBAKBtCBv0V7ekCeDQCAQCAQCgUAgkL+CfAHXFio+uQx97QAAAABJRU5ErkJggg=='>"
      ],
      "text/plain": [
       "<IPython.core.display.HTML object>"
      ]
     },
     "metadata": {},
     "output_type": "display_data"
    }
   ],
   "source": [
    "# gLucifer visualisation of mesh\n",
    "fig = glucifer.Figure( figsize=(800,400) )\n",
    "fig.append(glucifer.objects.Mesh( mesh ))\n",
    "fig.show()"
   ]
  },
  {
   "cell_type": "code",
   "execution_count": 5,
   "metadata": {},
   "outputs": [],
   "source": [
    "# Create mesh variables for the temperature field & initialise. \n",
    "temperatureField = mesh.add_variable( nodeDofCount=1 )\n",
    "temperatureField.data[:] = 0."
   ]
  },
  {
   "cell_type": "markdown",
   "metadata": {},
   "source": [
    "Create boundary conditions\n",
    "----------"
   ]
  },
  {
   "cell_type": "markdown",
   "metadata": {},
   "source": [
    "We first wish to determine which vertices will be flagged as boundary conditions. To do this, we create set objects which contain the vertex indices for which the condition will apply. The *specialSets* dictionary (on the mesh object) contains the sets we usually require. Note however that you may construct sets which contain indices for **any** vertex on the mesh."
   ]
  },
  {
   "cell_type": "code",
   "execution_count": 6,
   "metadata": {},
   "outputs": [
    {
     "data": {
      "text/plain": [
       "dict_keys(['MaxI_VertexSet', 'MinI_VertexSet', 'MaxJ_VertexSet', 'MinJ_VertexSet', 'AllWalls_VertexSet', 'Empty'])"
      ]
     },
     "execution_count": 6,
     "metadata": {},
     "output_type": "execute_result"
    }
   ],
   "source": [
    "mesh.specialSets.keys()"
   ]
  },
  {
   "cell_type": "markdown",
   "metadata": {},
   "source": [
    "The vertices along the bottom wall is given by  'MinJ_VertexSet', the top wall given by the 'MaxJ_VertexSet'."
   ]
  },
  {
   "cell_type": "markdown",
   "metadata": {},
   "source": [
    "Construct sets for the horizontal walls:"
   ]
  },
  {
   "cell_type": "code",
   "execution_count": 7,
   "metadata": {},
   "outputs": [],
   "source": [
    "jWalls = mesh.specialSets[\"MinJ_VertexSet\"] + mesh.specialSets[\"MaxJ_VertexSet\"]"
   ]
  },
  {
   "cell_type": "markdown",
   "metadata": {},
   "source": [
    "Create Dirichlet boundary conditions for the `jWalls` and provide values."
   ]
  },
  {
   "cell_type": "code",
   "execution_count": 8,
   "metadata": {},
   "outputs": [],
   "source": [
    "tempBC = uw.conditions.DirichletCondition( variable=temperatureField, indexSetsPerDof=(jWalls,) )"
   ]
  },
  {
   "cell_type": "code",
   "execution_count": 9,
   "metadata": {},
   "outputs": [],
   "source": [
    "# set bottom wall temperature bc\n",
    "for index in mesh.specialSets[\"MinJ_VertexSet\"]:\n",
    "    temperatureField.data[index] = 1.0\n",
    "# set top wall temperature bc\n",
    "for index in mesh.specialSets[\"MaxJ_VertexSet\"]:\n",
    "    temperatureField.data[index] = 0.0"
   ]
  },
  {
   "cell_type": "code",
   "execution_count": 10,
   "metadata": {
    "scrolled": false
   },
   "outputs": [
    {
     "data": {
      "text/html": [
       "<img src='data:image/png;base64,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'>"
      ],
      "text/plain": [
       "<IPython.core.display.HTML object>"
      ]
     },
     "metadata": {},
     "output_type": "display_data"
    }
   ],
   "source": [
    "# gLucifer visualisation of temperature field & mesh\n",
    "fig.append( glucifer.objects.Surface( mesh, temperatureField, colours=\"blue white red\" ) )\n",
    "fig.show()"
   ]
  },
  {
   "cell_type": "markdown",
   "metadata": {},
   "source": [
    "Heat Equation System setup & solve\n",
    "-----\n",
    "\n",
    "Temperature field, diffusivity and boundary conditions are passed to the SteadyStateHeat system function."
   ]
  },
  {
   "cell_type": "code",
   "execution_count": 11,
   "metadata": {},
   "outputs": [],
   "source": [
    "heatequation = uw.systems.SteadyStateHeat(temperatureField = temperatureField, \n",
    "                                            fn_diffusivity = 1.0, \n",
    "                                                conditions = tempBC)"
   ]
  },
  {
   "cell_type": "markdown",
   "metadata": {},
   "source": [
    "Solve the heat equation."
   ]
  },
  {
   "cell_type": "code",
   "execution_count": 12,
   "metadata": {},
   "outputs": [],
   "source": [
    "# get the default heat equation solver\n",
    "heatsolver = uw.systems.Solver(heatequation)\n",
    "# solve\n",
    "heatsolver.solve()"
   ]
  },
  {
   "cell_type": "code",
   "execution_count": 13,
   "metadata": {},
   "outputs": [
    {
     "data": {
      "text/html": [
       "<img src='data:image/png;base64,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'>"
      ],
      "text/plain": [
       "<IPython.core.display.HTML object>"
      ]
     },
     "metadata": {},
     "output_type": "display_data"
    }
   ],
   "source": [
    "# gLucifer visualisation of temperature field & mesh\n",
    "fig.show()"
   ]
  }
 ],
 "metadata": {
  "kernelspec": {
   "display_name": "Python 3",
   "language": "python",
   "name": "python3"
  },
  "language_info": {
   "codemirror_mode": {
    "name": "ipython",
    "version": 3
   },
   "file_extension": ".py",
   "mimetype": "text/x-python",
   "name": "python",
   "nbconvert_exporter": "python",
   "pygments_lexer": "ipython3",
   "version": "3.6.2"
  }
 },
 "nbformat": 4,
 "nbformat_minor": 1
}
